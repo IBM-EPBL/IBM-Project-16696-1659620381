{
  "nbformat": 4,
  "nbformat_minor": 0,
  "metadata": {
    "colab": {
      "provenance": []
    },
    "kernelspec": {
      "name": "python3",
      "display_name": "Python 3"
    },
    "language_info": {
      "name": "python"
    }
  },
  "cells": [
    {
      "cell_type": "markdown",
      "source": [
        "***Exercises***\n",
        "Answer the questions or complete the tasks outlined in bold below, use the specific method described if applicable.\n",
        "\n",
        "***What is 7 to the power of 4?***"
      ],
      "metadata": {
        "id": "ihgxzN4jnIsB"
      }
    },
    {
      "cell_type": "code",
      "source": [
        "print(7*7*7*7)"
      ],
      "metadata": {
        "colab": {
          "base_uri": "https://localhost:8080/"
        },
        "id": "P6Q7p_0fouFZ",
        "outputId": "1e398b9c-61b1-49ca-9c25-240308d3c257"
      },
      "execution_count": null,
      "outputs": [
        {
          "output_type": "stream",
          "name": "stdout",
          "text": [
            "2401\n"
          ]
        }
      ]
    },
    {
      "cell_type": "markdown",
      "source": [
        "***Split this string:***\n",
        "\n",
        "s = \"Hi there Sam!\"\n",
        "\n",
        "***into a list.***"
      ],
      "metadata": {
        "id": "Y1AY5Fr_qI-U"
      }
    },
    {
      "cell_type": "code",
      "source": [
        "s = \"Hi there Afreen!\"\n",
        "s.split()"
      ],
      "metadata": {
        "colab": {
          "base_uri": "https://localhost:8080/"
        },
        "id": "jHT9eC6WqQTJ",
        "outputId": "21d2c7cb-c8bc-4bb2-c5ea-090c36af4193"
      },
      "execution_count": null,
      "outputs": [
        {
          "output_type": "execute_result",
          "data": {
            "text/plain": [
              "['Hi', 'there', 'Gayathri!']"
            ]
          },
          "metadata": {},
          "execution_count": 2
        }
      ]
    },
    {
      "cell_type": "markdown",
      "source": [
        "***Given the variables:***\n",
        "\n",
        "planet = \"Earth\"\n",
        "diameter = 12742\n",
        "\n",
        "***Use .format() to print the following string:***\n",
        "\n",
        "The diameter of Earth is 12742 kilometers."
      ],
      "metadata": {
        "id": "OyRGCAlwqWYt"
      }
    },
    {
      "cell_type": "code",
      "source": [
        "planet = \"Earth\"\n",
        "diameter=\"The diameter of {} is 12742 kilometers\".format(planet)\n",
        "print(diameter)"
      ],
      "metadata": {
        "colab": {
          "base_uri": "https://localhost:8080/"
        },
        "id": "3xSX09Poqlhu",
        "outputId": "8ea6d235-aef9-4a6e-c4ec-ef8da9d2b009"
      },
      "execution_count": null,
      "outputs": [
        {
          "output_type": "stream",
          "name": "stdout",
          "text": [
            "The diameter of Earth is 12742 kilometers\n"
          ]
        }
      ]
    },
    {
      "cell_type": "markdown",
      "source": [
        "\n",
        "***Given this nested list, use indexing to grab the word \"hello\"***"
      ],
      "metadata": {
        "id": "hldrD3u7raQz"
      }
    },
    {
      "cell_type": "code",
      "source": [
        "lst = [1,2,[3,4],[5,[100,200,['hello']],23,11],1,7]\n",
        "lst[3][1][2]"
      ],
      "metadata": {
        "colab": {
          "base_uri": "https://localhost:8080/"
        },
        "id": "sZDz1ncQrn82",
        "outputId": "ef33a58a-badb-48f8-b126-a3e3614f93cf"
      },
      "execution_count": null,
      "outputs": [
        {
          "output_type": "execute_result",
          "data": {
            "text/plain": [
              "['hello']"
            ]
          },
          "metadata": {},
          "execution_count": 4
        }
      ]
    },
    {
      "cell_type": "markdown",
      "source": [
        "***Given this nest dictionary grab the word \"hello\". Be prepared, this will be annoying/tricky***"
      ],
      "metadata": {
        "id": "ZHG9ppxVsRRg"
      }
    },
    {
      "cell_type": "code",
      "source": [
        "d = {'k1':[1,2,3,{'tricky':['oh','man','inception',{'target':[1,2,3,'hello']}]}]}\n",
        "d[\"k1\"][3][\"tricky\"][3][\"target\"][3]"
      ],
      "metadata": {
        "colab": {
          "base_uri": "https://localhost:8080/",
          "height": 36
        },
        "id": "GKDPsDLCsUU8",
        "outputId": "112ba3e5-0555-4f7d-883b-e285d33661ea"
      },
      "execution_count": null,
      "outputs": [
        {
          "output_type": "execute_result",
          "data": {
            "text/plain": [
              "'hello'"
            ],
            "application/vnd.google.colaboratory.intrinsic+json": {
              "type": "string"
            }
          },
          "metadata": {},
          "execution_count": 5
        }
      ]
    },
    {
      "cell_type": "markdown",
      "source": [
        "***What is the main difference between a tuple and a list?***"
      ],
      "metadata": {
        "id": "ghVFyKrbswiD"
      }
    },
    {
      "cell_type": "code",
      "source": [
        "#The list is dynamic, whereas the tuple has static characteristics. This means that lists can be modified whereas tuples cannot be modified, the tuple is faster than the list because of static in nature.\n",
        "#Lists are denoted by the square brackets but tuples are denoted as parenthesis.\n"
      ],
      "metadata": {
        "id": "mLVPocPjs3vB"
      },
      "execution_count": null,
      "outputs": []
    },
    {
      "cell_type": "markdown",
      "source": [
        "***Create a function that grabs the email website domain from a string in the form:***\n",
        "\n",
        "\n",
        "user@domain.com\n",
        "\n",
        "***So for example, passing \"user@domain.com\" would return: domain.com***"
      ],
      "metadata": {
        "id": "j3mvXo_xtXT7"
      }
    },
    {
      "cell_type": "code",
      "source": [
        "def domainGet(email):\n",
        "    print(\"Your domain is: \" + email.split('@')[-1])\n",
        "\n",
        "email = input(\"Please enter your email: >\")\n",
        "domainGet(email)"
      ],
      "metadata": {
        "colab": {
          "base_uri": "https://localhost:8080/"
        },
        "id": "VrOmpO1Vtxii",
        "outputId": "01645c0b-6dff-4fe0-b654-18ad52f87618"
      },
      "execution_count": null,
      "outputs": [
        {
          "output_type": "stream",
          "name": "stdout",
          "text": [
            "Please enter your email: >afreenfarhath255@gmail.com\n",
            "Your domain is: gmail.com\n"
          ]
        }
      ]
    },
    {
      "cell_type": "markdown",
      "source": [
        "***Create a basic function that returns True if the word 'dog' is contained in the input string. Don't worry about edge cases like a punctuation being attached to the word dog, but do account for capitalization.***"
      ],
      "metadata": {
        "id": "ps4nOjLMuIz7"
      }
    },
    {
      "cell_type": "code",
      "source": [
        "def findDog(st):\n",
        "    if 'dog' in st.lower():\n",
        "        print(\"True\")\n",
        "    else:\n",
        "        print(\"False\")\n",
        "st = \"I take a walk with my dog\"\n",
        "findDog(st)"
      ],
      "metadata": {
        "colab": {
          "base_uri": "https://localhost:8080/"
        },
        "id": "3KygXeMIuMnp",
        "outputId": "c08b2d60-2974-4b01-cd9b-7f76f6769123"
      },
      "execution_count": null,
      "outputs": [
        {
          "output_type": "stream",
          "name": "stdout",
          "text": [
            "True\n"
          ]
        }
      ]
    },
    {
      "cell_type": "markdown",
      "source": [
        "***Create a function that counts the number of times the word \"dog\" occurs in a string. Again ignore edge cases.***"
      ],
      "metadata": {
        "id": "6HII19P_uRuk"
      }
    },
    {
      "cell_type": "code",
      "source": [
        "value = \"My neighbor's dog won't eat dry dog food\";\n",
        "def countdogs(value):\n",
        "    count = 0\n",
        "    for word in value.lower().split():\n",
        "        if word == 'dog' or word == 'dogs':\n",
        "            count = count + 1\n",
        "            print(count)\n",
        "\n",
        "countdogs(value)"
      ],
      "metadata": {
        "colab": {
          "base_uri": "https://localhost:8080/"
        },
        "id": "Gug8SJwMuUxg",
        "outputId": "eeec3232-0d0b-4a86-fca7-7f6684cadded"
      },
      "execution_count": null,
      "outputs": [
        {
          "output_type": "stream",
          "name": "stdout",
          "text": [
            "1\n",
            "2\n"
          ]
        }
      ]
    },
    {
      "cell_type": "markdown",
      "source": [
        "Problem\n",
        "You are driving a little too fast, and a police officer stops you. Write a function to return one of 3 possible results: \"No ticket\", \"Small ticket\", or \"Big Ticket\". If your speed is 60 or less, the result is \"No Ticket\". If speed is between 61 and 80 inclusive, the result is \"Small Ticket\". If speed is 81 or more, the result is \"Big Ticket\". Unless it is your birthday (encoded as a boolean value in the parameters of the function) -- on your birthday, your speed can be 5 higher in all cases. "
      ],
      "metadata": {
        "id": "zui2FSG0upFQ"
      }
    },
    {
      "cell_type": "code",
      "source": [
        "def caught_speeding(speed, is_birthday):\n",
        "    \n",
        "    if is_birthday:\n",
        "        speeding = speed - 5\n",
        "    else:\n",
        "        speeding = speed\n",
        "    \n",
        "    if speeding > 80:\n",
        "        return 'Big Ticket'\n",
        "    elif speeding > 60:\n",
        "        return 'Small Ticket'\n",
        "    else:\n",
        "        return 'No Ticket'\n",
        "caught_speeding(91,False)"
      ],
      "metadata": {
        "colab": {
          "base_uri": "https://localhost:8080/",
          "height": 36
        },
        "id": "FZeUAYU_vCJC",
        "outputId": "3ebdbed5-4fde-481d-ed2d-c72f3fc33216"
      },
      "execution_count": null,
      "outputs": [
        {
          "output_type": "execute_result",
          "data": {
            "text/plain": [
              "'Big Ticket'"
            ],
            "application/vnd.google.colaboratory.intrinsic+json": {
              "type": "string"
            }
          },
          "metadata": {},
          "execution_count": 9
        }
      ]
    },
    {
      "cell_type": "code",
      "source": [
        "speed=\"Your speed is more than 81\"\n",
        "caught_speeding(81,True)"
      ],
      "metadata": {
        "colab": {
          "base_uri": "https://localhost:8080/",
          "height": 36
        },
        "id": "Yty8D-NCvV7W",
        "outputId": "17180165-f1b0-4bcb-a43a-ab73d52db4b6"
      },
      "execution_count": null,
      "outputs": [
        {
          "output_type": "execute_result",
          "data": {
            "text/plain": [
              "'Small Ticket'"
            ],
            "application/vnd.google.colaboratory.intrinsic+json": {
              "type": "string"
            }
          },
          "metadata": {},
          "execution_count": 10
        }
      ]
    },
    {
      "cell_type": "markdown",
      "source": [
        "***Create an employee list with basic salary values(at least 5 values for 5 employees) and using a for loop retreive each employee salary and calculate total salary expenditure.***\n",
        "\n"
      ],
      "metadata": {
        "id": "Wp68nBbRvbiq"
      }
    },
    {
      "cell_type": "code",
      "source": [
        "employee_names = [\"Ancy\", \"Afreen\", \"Aakash\", \"Abirami\", \"Harini\"]\n",
        "employee_salaries = {}\n",
        "for employee in employee_names:\n",
        "    while True: # Input validation loop\n",
        "        try:\n",
        "            employee_salaries[employee] = int(input(f\"Enter {employee}'s salary: \")) \n",
        "            break\n",
        "        except ValueError:\n",
        "            print(\"Invalid input\")\n",
        "    print(employee_salaries)\n",
        "    total = sum(employee_salaries.values())\n",
        "    print(total)"
      ],
      "metadata": {
        "colab": {
          "base_uri": "https://localhost:8080/"
        },
        "id": "K_7hxlIhvkDq",
        "outputId": "9cfa8939-6326-4014-9ea6-9742c0d11525"
      },
      "execution_count": null,
      "outputs": [
        {
          "output_type": "stream",
          "name": "stdout",
          "text": [
            "Enter Ancy's salary: 130000\n",
            "{'Ancy': 130000}\n",
            "130000\n",
            "Enter Afreen's salary: 90000\n",
            "{'Ancy': 130000, 'Afreen': 90000}\n",
            "220000\n",
            "Enter Aakash's salary: 145345\n",
            "{'Ancy': 130000, 'Afreen': 90000, 'Aakash': 145345}\n",
            "365345\n",
            "Enter Abirami's salary: 85300\n",
            "{'Ancy': 130000, 'Afreen': 90000, 'Aakash': 145345, 'Abirami': 85300}\n",
            "450645\n",
            "Enter Harini's salary: 63409\n",
            "{'Ancy': 130000, 'Afreen': 90000, 'Aakash': 145345, 'Abirami': 85300, 'Harini': 63409}\n",
            "514054\n"
          ]
        }
      ]
    },
    {
      "cell_type": "markdown",
      "source": [
        "Create two dictionaries in Python:\n",
        "\n",
        "First one to contain fields as Empid, Empname, Basicpay\n",
        "\n",
        "Second dictionary to contain fields as DeptName, DeptId.\n",
        "\n",
        "Combine both dictionaries."
      ],
      "metadata": {
        "id": "zgwl7fHkwZFg"
      }
    },
    {
      "cell_type": "code",
      "source": [
        "d1={\"Empid\":101,\n",
        "    \"Empname\":'Afreen', \n",
        "    \"Basicpay\":5000}\n",
        "d2={\"DeptName\":'IT',  \n",
        "    \"DeptId\":105}\n",
        "print({**d1, **d2})"
      ],
      "metadata": {
        "colab": {
          "base_uri": "https://localhost:8080/"
        },
        "id": "FSrB-rs1w7Z3",
        "outputId": "30463bb4-7a48-44d7-835a-ea9722b41925"
      },
      "execution_count": null,
      "outputs": [
        {
          "output_type": "stream",
          "name": "stdout",
          "text": [
            "{'Empid': 101, 'Empname': 'Afreen', 'Basicpay': 5000, 'DeptName': 'IT', 'DeptId': 105}\n"
          ]
        }
      ]
    }
  ]
}