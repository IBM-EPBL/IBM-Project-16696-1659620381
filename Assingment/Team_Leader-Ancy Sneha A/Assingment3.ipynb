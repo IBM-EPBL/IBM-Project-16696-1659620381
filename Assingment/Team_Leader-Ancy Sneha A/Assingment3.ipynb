{
  "nbformat": 4,
  "nbformat_minor": 0,
  "metadata": {
    "colab": {
      "provenance": []
    },
    "kernelspec": {
      "name": "python3",
      "display_name": "Python 3"
    },
    "language_info": {
      "name": "python"
    }
  },
  "cells": [
    {
      "cell_type": "markdown",
      "source": [
        "##Exercises"
      ],
      "metadata": {
        "id": "7BJoxTnm6_TD"
      }
    },
    {
      "cell_type": "markdown",
      "source": [
        "Answer the questions or complete the tasks outlined in bold below, use the specific method described if applicable."
      ],
      "metadata": {
        "id": "q4lnRAQ47pSQ"
      }
    },
    {
      "cell_type": "markdown",
      "source": [
        "**What is 7 to the power of 4?**\n",
        "\n"
      ],
      "metadata": {
        "id": "8VD0itbE7cvG"
      }
    },
    {
      "cell_type": "code",
      "source": [
        "print(7*7*7*7)"
      ],
      "metadata": {
        "colab": {
          "base_uri": "https://localhost:8080/"
        },
        "id": "JsUUhvLv7oJY",
        "outputId": "3b1670e7-891e-401d-b917-d281e373002d"
      },
      "execution_count": null,
      "outputs": [
        {
          "output_type": "stream",
          "name": "stdout",
          "text": [
            "2401\n"
          ]
        }
      ]
    },
    {
      "cell_type": "markdown",
      "source": [
        "**Split this string:**\n",
        "\n",
        "s = \"Hi there Sam!\"\n",
        "\n",
        "**into a list.**"
      ],
      "metadata": {
        "id": "nAnMtKpa8JUo"
      }
    },
    {
      "cell_type": "code",
      "source": [
        "s = \"Hi there Ancy Sneha!\""
      ],
      "metadata": {
        "id": "ovoeZeam8UIG"
      },
      "execution_count": 6,
      "outputs": []
    },
    {
      "cell_type": "code",
      "source": [
        "s.split()"
      ],
      "metadata": {
        "colab": {
          "base_uri": "https://localhost:8080/"
        },
        "id": "9xLTv4Vn8WKE",
        "outputId": "b0dae408-7e85-4d02-bc72-38cb7b43cd67"
      },
      "execution_count": 7,
      "outputs": [
        {
          "output_type": "execute_result",
          "data": {
            "text/plain": [
              "['Hi', 'there', 'Ancy', 'Sneha!']"
            ]
          },
          "metadata": {},
          "execution_count": 7
        }
      ]
    },
    {
      "cell_type": "markdown",
      "source": [
        "**Given the variables:**\n",
        "\n",
        "planet = \"Earth\"\n",
        "\n",
        "\n",
        "diameter = 12742\n",
        "\n",
        "**Use .format() to print the following string:**\n",
        "The diameter of Earth is 12742 kilometers."
      ],
      "metadata": {
        "id": "RebHsopB8fTs"
      }
    },
    {
      "cell_type": "code",
      "source": [
        "planet = \"Earth\"\n",
        "diameter=\"The diameter of {} is 12742 kilometers\".format(planet)"
      ],
      "metadata": {
        "id": "10I04kLf82DM"
      },
      "execution_count": null,
      "outputs": []
    },
    {
      "cell_type": "code",
      "source": [
        "print(diameter)"
      ],
      "metadata": {
        "colab": {
          "base_uri": "https://localhost:8080/"
        },
        "id": "kCPp1Un484Qd",
        "outputId": "048875e0-05e9-4d24-b5ab-0d25ac13e688"
      },
      "execution_count": null,
      "outputs": [
        {
          "output_type": "stream",
          "name": "stdout",
          "text": [
            "The diameter of Earth is 12742 kilometers\n"
          ]
        }
      ]
    },
    {
      "cell_type": "markdown",
      "source": [
        "Given this nested list, use indexing to grab the word \"hello\""
      ],
      "metadata": {
        "id": "-eptXoqY8-PR"
      }
    },
    {
      "cell_type": "code",
      "source": [
        "lst = [1,2,[3,4],[5,[100,200,['hello']],23,11],1,7]"
      ],
      "metadata": {
        "id": "k2t720ib9uOA"
      },
      "execution_count": null,
      "outputs": []
    },
    {
      "cell_type": "code",
      "source": [
        "lst[3][1][2]"
      ],
      "metadata": {
        "colab": {
          "base_uri": "https://localhost:8080/"
        },
        "id": "Ig8-SCMN9wkE",
        "outputId": "e17c7615-d958-4f26-d165-04d101ad658c"
      },
      "execution_count": null,
      "outputs": [
        {
          "output_type": "execute_result",
          "data": {
            "text/plain": [
              "['hello']"
            ]
          },
          "metadata": {},
          "execution_count": 7
        }
      ]
    },
    {
      "cell_type": "markdown",
      "source": [
        "Given this nest dictionary grab the word \"hello\". Be prepared, this will be annoying/tricky"
      ],
      "metadata": {
        "id": "yQ_Tv2RJ90SW"
      }
    },
    {
      "cell_type": "code",
      "source": [
        "d = {'k1':[1,2,3,{'tricky':['oh','man','inception',{'target':[1,2,3,'hello']}]}]}"
      ],
      "metadata": {
        "id": "BoQRDidi92mH"
      },
      "execution_count": null,
      "outputs": []
    },
    {
      "cell_type": "code",
      "source": [
        "d[\"k1\"][3][\"tricky\"][3][\"target\"][3]"
      ],
      "metadata": {
        "colab": {
          "base_uri": "https://localhost:8080/",
          "height": 36
        },
        "id": "5IRSZ8DY97LG",
        "outputId": "b59f7cdf-3776-417e-a6ad-c70e6850e72c"
      },
      "execution_count": null,
      "outputs": [
        {
          "output_type": "execute_result",
          "data": {
            "text/plain": [
              "'hello'"
            ],
            "application/vnd.google.colaboratory.intrinsic+json": {
              "type": "string"
            }
          },
          "metadata": {},
          "execution_count": 9
        }
      ]
    },
    {
      "cell_type": "markdown",
      "source": [
        "What is the main difference between a tuple and a list?"
      ],
      "metadata": {
        "id": "qPvWBsEb-AAn"
      }
    },
    {
      "cell_type": "markdown",
      "source": [
        "The main differences between lists and tuples are,Lists are enclosed in brackets([]) and their elements and size can be changed,while tuples are enclosed in parentheses() and c"
      ],
      "metadata": {
        "id": "DY47rJ2W-Htm"
      }
    },
    {
      "cell_type": "markdown",
      "source": [
        "**Create a function that grabs the email website domain from a string in the form:**\n",
        "\n",
        "         user@domain.com\n",
        "\n",
        "**So for example, passing \"user@domain.com\" would return: domain.com**"
      ],
      "metadata": {
        "id": "yHjAzC7Q-Otr"
      }
    },
    {
      "cell_type": "code",
      "source": [
        "def domainGet(email):\n",
        "    print(\"Your domain is: \" + email.split('@')[-1])\n",
        "\n",
        "email = input(\"Please enter your email: >\")\n",
        "domainGet(email)"
      ],
      "metadata": {
        "colab": {
          "base_uri": "https://localhost:8080/"
        },
        "id": "W9zAxXja-Zze",
        "outputId": "ad554daa-1858-4097-a876-ef91a1fa1892"
      },
      "execution_count": null,
      "outputs": [
        {
          "output_type": "stream",
          "name": "stdout",
          "text": [
            "Please enter your email: >ancysnehaa@gmail.com\n",
            "Your domain is: gmail.com\n"
          ]
        }
      ]
    },
    {
      "cell_type": "markdown",
      "source": [
        "Create a basic function that returns True if the word 'dog' is contained in the input string. Don't worry about edge cases like a punctuation being attached to the word dog, but do account for capitalization."
      ],
      "metadata": {
        "id": "Akh29qdm-mmg"
      }
    },
    {
      "cell_type": "code",
      "source": [
        "def findDog(st):\n",
        "    if 'dog' in st.lower():\n",
        "        print(\"True\")\n",
        "    else:\n",
        "        print(\"False\")"
      ],
      "metadata": {
        "id": "CFZK2a6p-ohr"
      },
      "execution_count": null,
      "outputs": []
    },
    {
      "cell_type": "code",
      "source": [
        "st = \"I take a walk with my dog\"\n",
        "findDog(st)"
      ],
      "metadata": {
        "colab": {
          "base_uri": "https://localhost:8080/"
        },
        "id": "DhBzZnxr-s2f",
        "outputId": "603840a2-cb04-4109-e9e9-c8dc4874657e"
      },
      "execution_count": null,
      "outputs": [
        {
          "output_type": "stream",
          "name": "stdout",
          "text": [
            "True\n"
          ]
        }
      ]
    },
    {
      "cell_type": "markdown",
      "source": [
        "Create a function that counts the number of times the word \"dog\" occurs in a string. Again ignore edge cases."
      ],
      "metadata": {
        "id": "14zgqPAJ-ysP"
      }
    },
    {
      "cell_type": "code",
      "source": [
        "value = \"My neighbor's dog won't eat dry dog food\";"
      ],
      "metadata": {
        "id": "Y0QhiJ2B-zzp"
      },
      "execution_count": null,
      "outputs": []
    },
    {
      "cell_type": "code",
      "source": [
        "def countdogs(value):\n",
        "    count = 0\n",
        "    for word in value.lower().split():\n",
        "        if word == 'dog' or word == 'dogs':\n",
        "            count = count + 1\n",
        "            print(count)\n",
        "\n",
        "countdogs(value)"
      ],
      "metadata": {
        "colab": {
          "base_uri": "https://localhost:8080/"
        },
        "id": "3qzDuHdO-3lN",
        "outputId": "55b78ecf-0007-4f0d-a1b3-68c037bcddca"
      },
      "execution_count": null,
      "outputs": [
        {
          "output_type": "stream",
          "name": "stdout",
          "text": [
            "1\n",
            "2\n"
          ]
        }
      ]
    },
    {
      "cell_type": "markdown",
      "source": [
        "**Problem**\n",
        "\n",
        "\n",
        "You are driving a little too fast, and a police officer stops you. Write a function to return one of 3 possible results: \"No ticket\", \"Small ticket\", or \"Big Ticket\". If your speed is 60 or less, the result is \"No Ticket\". If speed is between 61 and 80 inclusive, the result is \"Small Ticket\". If speed is 81 or more, the result is \"Big Ticket\". Unless it is your birthday (encoded as a boolean value in the parameters of the function) -- on your birthday, your speed can be 5 higher in all cases."
      ],
      "metadata": {
        "id": "ZHzZqhkC--Rp"
      }
    },
    {
      "cell_type": "code",
      "source": [
        "def caught_speeding(speed, is_birthday):\n",
        "    \n",
        "    if is_birthday:\n",
        "        speeding = speed - 5\n",
        "    else:\n",
        "        speeding = speed\n",
        "    \n",
        "    if speeding > 80:\n",
        "        return 'Big Ticket'\n",
        "    elif speeding > 60:\n",
        "        return 'Small Ticket'\n",
        "    else:\n",
        "        return 'No Ticket'"
      ],
      "metadata": {
        "id": "BKF_0fTa_Dic"
      },
      "execution_count": null,
      "outputs": []
    },
    {
      "cell_type": "code",
      "source": [
        "caught_speeding(91,False)"
      ],
      "metadata": {
        "colab": {
          "base_uri": "https://localhost:8080/",
          "height": 36
        },
        "id": "PvC-h8i9_IwG",
        "outputId": "07706dcc-c4e1-4c44-e09b-35dcfa2d1bb3"
      },
      "execution_count": null,
      "outputs": [
        {
          "output_type": "execute_result",
          "data": {
            "text/plain": [
              "'Big Ticket'"
            ],
            "application/vnd.google.colaboratory.intrinsic+json": {
              "type": "string"
            }
          },
          "metadata": {},
          "execution_count": 16
        }
      ]
    },
    {
      "cell_type": "code",
      "source": [
        "speed=\"Your speed is more than 81\"\n",
        "caught_speeding(81,True)"
      ],
      "metadata": {
        "colab": {
          "base_uri": "https://localhost:8080/",
          "height": 36
        },
        "id": "Xxdjiylz_LS5",
        "outputId": "c183cde0-a3c6-490a-b9c9-a09f28b2b0b2"
      },
      "execution_count": null,
      "outputs": [
        {
          "output_type": "execute_result",
          "data": {
            "text/plain": [
              "'Small Ticket'"
            ],
            "application/vnd.google.colaboratory.intrinsic+json": {
              "type": "string"
            }
          },
          "metadata": {},
          "execution_count": 17
        }
      ]
    },
    {
      "cell_type": "markdown",
      "source": [
        "Create an employee list with basic salary values(at least 5 values for 5 employees) and using a for loop retreive each employee salary and calculate total salary expenditure."
      ],
      "metadata": {
        "id": "3iAXtNMA_OSf"
      }
    },
    {
      "cell_type": "code",
      "source": [
        "employee_names = [\"Ancy Sneha\",\"Afreen\",\"Aakash\",\"Abirami\",\"Harini\"]\n",
        "employee_salaries = {}\n",
        "for employee in employee_names:\n",
        "    while True: # Input validation loop\n",
        "        try:\n",
        "            employee_salaries[employee] = int(input(f\"Enter {employee}'s salary: \")) \n",
        "            break\n",
        "        except ValueError:\n",
        "            print(\"Invalid input\")\n",
        "    print(employee_salaries)\n",
        "    total = sum(employee_salaries.values())\n",
        "    print(total)"
      ],
      "metadata": {
        "colab": {
          "base_uri": "https://localhost:8080/"
        },
        "id": "IXuT7GSS_Paf",
        "outputId": "b5567784-8c30-4bd7-bc2f-a33da080e394"
      },
      "execution_count": null,
      "outputs": [
        {
          "output_type": "stream",
          "name": "stdout",
          "text": [
            "Enter Ancy Sneha's salary: 55000\n",
            "{'Ancy Sneha': 55000}\n",
            "55000\n",
            "Enter Afreen's salary: 45000\n",
            "{'Ancy Sneha': 55000, 'Afreen': 45000}\n",
            "100000\n",
            "Enter Aakash's salary: 60000\n",
            "{'Ancy Sneha': 55000, 'Afreen': 45000, 'Aakash': 60000}\n",
            "160000\n",
            "Enter Abirami's salary: 25000\n",
            "{'Ancy Sneha': 55000, 'Afreen': 45000, 'Aakash': 60000, 'Abirami': 25000}\n",
            "185000\n",
            "Enter Harini's salary: 50000\n",
            "{'Ancy Sneha': 55000, 'Afreen': 45000, 'Aakash': 60000, 'Abirami': 25000, 'Harini': 50000}\n",
            "235000\n"
          ]
        }
      ]
    },
    {
      "cell_type": "markdown",
      "source": [
        "Create two dictionaries in Python:\n",
        "\n",
        "First one to contain fields as Empid, Empname, Basicpay\n",
        "\n",
        "Second dictionary to contain fields as DeptName, DeptId.\n",
        "\n",
        "Combine both dictionaries."
      ],
      "metadata": {
        "id": "y5rPc64G_rcO"
      }
    },
    {
      "cell_type": "code",
      "source": [
        "d1={\"Empid\":101,\n",
        "    \"Empname\":'Ancy Sneha', \n",
        "    \"Basicpay\":5000}\n",
        "d2={\"DeptName\":'IT',  \n",
        "    \"DeptId\":105}"
      ],
      "metadata": {
        "id": "LtxVRsmF_tMw"
      },
      "execution_count": 4,
      "outputs": []
    },
    {
      "cell_type": "code",
      "source": [
        "print({**d1, **d2})"
      ],
      "metadata": {
        "id": "CzQ0skJz_v3z",
        "outputId": "b443c8c0-cc23-47b1-964c-4769f3ebb44b",
        "colab": {
          "base_uri": "https://localhost:8080/"
        }
      },
      "execution_count": 5,
      "outputs": [
        {
          "output_type": "stream",
          "name": "stdout",
          "text": [
            "{'Empid': 101, 'Empname': 'Harrrini', 'Basicpay': 5000, 'DeptName': 'IT', 'DeptId': 105}\n"
          ]
        }
      ]
    }
  ]
}