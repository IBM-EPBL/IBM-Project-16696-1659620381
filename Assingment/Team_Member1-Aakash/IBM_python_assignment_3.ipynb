{
 "cells": [
  {
   "cell_type": "raw",
   "id": "bfa55e8e",
   "metadata": {},
   "source": [
    "Exercises\n",
    "Answer the questions or complete the tasks outlined in bold below, use the specific method described if applicable.\n",
    "\n",
    "What is 7 to the power of 4?"
   ]
  },
  {
   "cell_type": "raw",
   "id": "7f4d2e77",
   "metadata": {},
   "source": []
  },
  {
   "cell_type": "code",
   "execution_count": 1,
   "id": "a5504c35",
   "metadata": {},
   "outputs": [
    {
     "name": "stdout",
     "output_type": "stream",
     "text": [
      "2401\n"
     ]
    }
   ],
   "source": [
    "print(7**4)"
   ]
  },
  {
   "cell_type": "raw",
   "id": "6b25e66b",
   "metadata": {},
   "source": [
    "Split this string:\n",
    "\n",
    "s = \"Hi there Sam!\"\n",
    "\n",
    "into a list."
   ]
  },
  {
   "cell_type": "code",
   "execution_count": 2,
   "id": "a03b8c63",
   "metadata": {},
   "outputs": [
    {
     "data": {
      "text/plain": [
       "['Hi', 'there', 'Sam!']"
      ]
     },
     "execution_count": 2,
     "metadata": {},
     "output_type": "execute_result"
    }
   ],
   "source": [
    "s = \"Hi there Sam!\"\n",
    "s.split()"
   ]
  },
  {
   "cell_type": "raw",
   "id": "89155129",
   "metadata": {},
   "source": [
    "Given the variables:\n",
    "\n",
    "planet = \"Earth\"\n",
    "diameter = 12742\n",
    "\n",
    "Use .format() to print the following string:\n",
    "\n",
    "The diameter of Earth is 12742 kilometers."
   ]
  },
  {
   "cell_type": "code",
   "execution_count": 3,
   "id": "32df8cd0",
   "metadata": {},
   "outputs": [],
   "source": [
    "planet = \"Earth\"\n",
    "diameter = 12742\n",
    "\n",
    "string =\"The diameter of {} is {} kilometers\".format(planet,diameter)"
   ]
  },
  {
   "cell_type": "code",
   "execution_count": 4,
   "id": "5d9507b1",
   "metadata": {},
   "outputs": [
    {
     "name": "stdout",
     "output_type": "stream",
     "text": [
      "The diameter of Earth is 12742 kilometers\n"
     ]
    }
   ],
   "source": [
    "print(string)"
   ]
  },
  {
   "cell_type": "raw",
   "id": "3dba9936",
   "metadata": {},
   "source": [
    "Given this nested list, use indexing to grab the word \"hello\"\n",
    "\n",
    "lst = [1,2,[3,4],[5,[100,200,['hello']],23,11],1,7]\n"
   ]
  },
  {
   "cell_type": "code",
   "execution_count": 5,
   "id": "c0ccd72d",
   "metadata": {},
   "outputs": [
    {
     "data": {
      "text/plain": [
       "['hello']"
      ]
     },
     "execution_count": 5,
     "metadata": {},
     "output_type": "execute_result"
    }
   ],
   "source": [
    "lst = [1,2,[3,4],[5,[100,200,['hello']],23,11],1,7]\n",
    "\n",
    "lst[3][1][2]"
   ]
  },
  {
   "cell_type": "raw",
   "id": "812d55cb",
   "metadata": {},
   "source": [
    "Given this nest dictionary grab the word \"hello\". Be prepared, this will be annoying/tricky\n",
    "\n",
    "d = {'k1':[1,2,3,{'tricky':['oh','man','inception',{'target':[1,2,3,'hello']}]}]}\n"
   ]
  },
  {
   "cell_type": "code",
   "execution_count": 6,
   "id": "2ec451b9",
   "metadata": {},
   "outputs": [
    {
     "data": {
      "text/plain": [
       "'hello'"
      ]
     },
     "execution_count": 6,
     "metadata": {},
     "output_type": "execute_result"
    }
   ],
   "source": [
    "d = {'k1':[1,2,3,{'tricky':['oh','man','inception',{'target':[1,2,3,'hello']}]}]}\n",
    "d[\"k1\"][3][\"tricky\"][3][\"target\"][3]"
   ]
  },
  {
   "cell_type": "raw",
   "id": "70aef1a9",
   "metadata": {},
   "source": [
    "What is the main difference between a tuple and a list?"
   ]
  },
  {
   "cell_type": "raw",
   "id": "80686c2e",
   "metadata": {},
   "source": [
    "One of the most important differences between a list and a tuple is that list is mutable, whereas a tuple is immutable."
   ]
  },
  {
   "cell_type": "raw",
   "id": "44df51fc",
   "metadata": {},
   "source": [
    "Create a function that grabs the email website domain from a string in the form:\n",
    "\n",
    "user@domain.com\n",
    "\n",
    "So for example, passing \"user@domain.com\" would return: domain.com\n"
   ]
  },
  {
   "cell_type": "code",
   "execution_count": 8,
   "id": "3f03f8cf",
   "metadata": {},
   "outputs": [
    {
     "name": "stdout",
     "output_type": "stream",
     "text": [
      "Please enter your email: >domain@gmail.com\n",
      "Your domain is: gmail.com\n"
     ]
    }
   ],
   "source": [
    "def domainGet(email):\n",
    "    print(\"Your domain is: \" + email.split('@')[-1])\n",
    "\n",
    "email = input(\"Please enter your email: >\")\n",
    "domainGet(email)"
   ]
  },
  {
   "cell_type": "raw",
   "id": "a36c8edb",
   "metadata": {},
   "source": [
    "Create a basic function that returns True if the word 'dog' is contained in the input string. Don't worry about edge cases like a punctuation being attached to the word dog, but do account for capitalization.\n"
   ]
  },
  {
   "cell_type": "code",
   "execution_count": 9,
   "id": "1f86c0a8",
   "metadata": {},
   "outputs": [
    {
     "name": "stdout",
     "output_type": "stream",
     "text": [
      "True\n"
     ]
    }
   ],
   "source": [
    "def findDog(st):\n",
    "    if 'dog' in st.lower():\n",
    "        print(\"True\")\n",
    "    else:\n",
    "        print(\"False\")\n",
    "st = \"Is there a dog here?\"\n",
    "findDog(st)"
   ]
  },
  {
   "cell_type": "raw",
   "id": "e3e2bfbc",
   "metadata": {},
   "source": [
    "Create a function that counts the number of times the word \"dog\" occurs in a string. Again ignore edge cases.\n"
   ]
  },
  {
   "cell_type": "code",
   "execution_count": 10,
   "id": "b2ca6acc",
   "metadata": {},
   "outputs": [
    {
     "name": "stdout",
     "output_type": "stream",
     "text": [
      "1\n",
      "2\n"
     ]
    }
   ],
   "source": [
    "value = 'This dog runs faster than the other dog dude!';\n",
    "def countdogs(value):\n",
    "    count = 0\n",
    "    for word in value.lower().split():\n",
    "        if word == 'dog' or word == 'dogs':\n",
    "            count = count + 1\n",
    "            print(count)\n",
    "\n",
    "countdogs(value)"
   ]
  },
  {
   "cell_type": "raw",
   "id": "529a56ac",
   "metadata": {},
   "source": [
    "Problem\n",
    "You are driving a little too fast, and a police officer stops you. Write a function to return one of 3 possible results: \"No ticket\", \"Small ticket\", or \"Big Ticket\". If your speed is 60 or less, the result is \"No Ticket\". If speed is between 61 and 80 inclusive, the result is \"Small Ticket\". If speed is 81 or more, the result is \"Big Ticket\". Unless it is your birthday (encoded as a boolean value in the parameters of the function) -- on your birthday, your speed can be 5 higher in all cases.\n",
    "\n"
   ]
  },
  {
   "cell_type": "code",
   "execution_count": 12,
   "id": "d8aec57a",
   "metadata": {},
   "outputs": [
    {
     "data": {
      "text/plain": [
       "'Big Ticket'"
      ]
     },
     "execution_count": 12,
     "metadata": {},
     "output_type": "execute_result"
    }
   ],
   "source": [
    "def caught_speeding(speed, is_birthday):\n",
    "    \n",
    "    if is_birthday:\n",
    "        speeding = speed - 5\n",
    "    else:\n",
    "        speeding = speed\n",
    "    \n",
    "    if speeding > 80:\n",
    "        return 'Big Ticket'\n",
    "    elif speeding > 60:\n",
    "        return 'Small Ticket'\n",
    "    else:\n",
    "        return 'No Ticket'\n",
    "caught_speeding(81,False)\n",
    "'Big Ticket'\n"
   ]
  },
  {
   "cell_type": "code",
   "execution_count": 13,
   "id": "d06b8615",
   "metadata": {},
   "outputs": [
    {
     "data": {
      "text/plain": [
       "'Small Ticket'"
      ]
     },
     "execution_count": 13,
     "metadata": {},
     "output_type": "execute_result"
    }
   ],
   "source": [
    "speed=\"Your speed is more than 81\"\n",
    "caught_speeding(81,True)\n",
    "'Small Ticket'"
   ]
  },
  {
   "cell_type": "raw",
   "id": "a1fbec1b",
   "metadata": {},
   "source": [
    "Create an employee list with basic salary values(at least 5 values for 5 employees) and using a for loop retreive each employee salary and calculate total salary expenditure.\n"
   ]
  },
  {
   "cell_type": "code",
   "execution_count": 17,
   "id": "2a05889a",
   "metadata": {},
   "outputs": [
    {
     "name": "stdout",
     "output_type": "stream",
     "text": [
      "Enter Mega's salary: 5000\n",
      "{'Mega': 5000}\n",
      "5000\n",
      "Enter Aakash's salary: 7000\n",
      "{'Mega': 5000, 'Aakash': 7000}\n",
      "12000\n",
      "Enter Abi's salary: 10000\n",
      "{'Mega': 5000, 'Aakash': 7000, 'Abi': 10000}\n",
      "22000\n",
      "Enter Ancy's salary: 12000\n",
      "{'Mega': 5000, 'Aakash': 7000, 'Abi': 10000, 'Ancy': 12000}\n",
      "34000\n",
      "Enter Harini's salary: 9500\n",
      "{'Mega': 5000, 'Aakash': 7000, 'Abi': 10000, 'Ancy': 12000, 'Harini': 9500}\n",
      "43500\n",
      "Enter Afreen's salary: 8000\n",
      "{'Mega': 5000, 'Aakash': 7000, 'Abi': 10000, 'Ancy': 12000, 'Harini': 9500, 'Afreen': 8000}\n",
      "51500\n"
     ]
    }
   ],
   "source": [
    "employee_names = [\"Mega\", \"Aakash\", \"Abi\", \"Ancy\", \"Harini\", \"Afreen\"]\n",
    "employee_salaries = {}\n",
    "for employee in employee_names:\n",
    "    while True: # Input validation loop\n",
    "        try:\n",
    "            employee_salaries[employee] = int(input(f\"Enter {employee}'s salary: \")) \n",
    "            break\n",
    "        except ValueError:\n",
    "            print(\"Invalid input\")\n",
    "    print(employee_salaries)\n",
    "    total = sum(employee_salaries.values())\n",
    "    print(total)"
   ]
  },
  {
   "cell_type": "raw",
   "id": "6d0abb24",
   "metadata": {},
   "source": [
    "Create two dictionaries in Python:\n",
    "\n",
    "First one to contain fields as Empid, Empname, Basicpay\n",
    "\n",
    "Second dictionary to contain fields as DeptName, DeptId.\n",
    "\n",
    "Combine both dictionaries.\n"
   ]
  },
  {
   "cell_type": "code",
   "execution_count": 16,
   "id": "077980b9",
   "metadata": {},
   "outputs": [
    {
     "name": "stdout",
     "output_type": "stream",
     "text": [
      "{'Empid': 111, 'Empname': 'mega', 'Basicpay': 6000, 'DeptName': 'IT', 'DeptId': 120}\n"
     ]
    }
   ],
   "source": [
    "d1={\"Empid\":111,\n",
    "    \"Empname\":'mega', \n",
    "    \"Basicpay\":6000}\n",
    "d2={\"DeptName\":'IT',  \n",
    "    \"DeptId\":120}\n",
    "print(d1|d2)"
   ]
  },
  {
   "cell_type": "code",
   "execution_count": null,
   "id": "414f3a6c",
   "metadata": {},
   "outputs": [],
   "source": []
  }
 ],
 "metadata": {
  "kernelspec": {
   "display_name": "Python 3 (ipykernel)",
   "language": "python",
   "name": "python3"
  },
  "language_info": {
   "codemirror_mode": {
    "name": "ipython",
    "version": 3
   },
   "file_extension": ".py",
   "mimetype": "text/x-python",
   "name": "python",
   "nbconvert_exporter": "python",
   "pygments_lexer": "ipython3",
   "version": "3.9.7"
  }
 },
 "nbformat": 4,
 "nbformat_minor": 5
}
